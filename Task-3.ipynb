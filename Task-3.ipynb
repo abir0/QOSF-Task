{
  "nbformat": 4,
  "nbformat_minor": 0,
  "metadata": {
    "colab": {
      "provenance": [],
      "toc_visible": true
    },
    "kernelspec": {
      "name": "python3",
      "display_name": "Python 3"
    },
    "language_info": {
      "name": "python"
    }
  },
  "cells": [
    {
      "cell_type": "markdown",
      "source": [
        "## Setup"
      ],
      "metadata": {
        "id": "hThqm1VSqgrU"
      }
    },
    {
      "cell_type": "code",
      "source": [
        "%%capture\n",
        "!pip install cirq"
      ],
      "metadata": {
        "id": "dTrI4CLACb7V"
      },
      "execution_count": 1,
      "outputs": []
    },
    {
      "cell_type": "code",
      "source": [
        "import cirq\n",
        "import numpy as np\n",
        "import matplotlib.pyplot as plt"
      ],
      "metadata": {
        "id": "fZrhOwyOPEYV"
      },
      "execution_count": 3,
      "outputs": []
    },
    {
      "cell_type": "markdown",
      "source": [
        "## Functions\n",
        "\n",
        "Functions for generating circuits, noise models, folding, execution, ZNE methods, and plotting."
      ],
      "metadata": {
        "id": "eLmQ2Pz-oe1W"
      }
    },
    {
      "cell_type": "code",
      "source": [
        "def generate_random_circuit(qubits=3, n_moments=3, op_density=1, random_state=11):\n",
        "    return cirq.testing.random_circuit(qubits=qubits, n_moments=n_moments, op_density=op_density, random_state=random_state)"
      ],
      "metadata": {
        "id": "f3Y4bkg-EDL0"
      },
      "execution_count": 120,
      "outputs": []
    },
    {
      "cell_type": "code",
      "source": [
        "def depolarizing_noise_model(error_prob=0.01):\n",
        "    noise_model = cirq.NoiseModel.from_noise_model_like(cirq.depolarize(p=error_prob))\n",
        "    return noise_model"
      ],
      "metadata": {
        "id": "NFLXHeWLCki8"
      },
      "execution_count": 121,
      "outputs": []
    },
    {
      "cell_type": "code",
      "source": [
        "def apply_noise(circuit, noise_model):\n",
        "    noisy_circuit = circuit.with_noise(noise_model)\n",
        "    return noisy_circuit"
      ],
      "metadata": {
        "id": "ucZUogr2DyEb"
      },
      "execution_count": 122,
      "outputs": []
    },
    {
      "cell_type": "code",
      "source": [
        "def fold_circuit(circuit, num_folds=1):\n",
        "    folded_circuit = cirq.Circuit()\n",
        "    for i, moment in enumerate(circuit):\n",
        "        for op in moment:\n",
        "            folded_circuit.append(op)\n",
        "            folded_circuit.append([cirq.inverse(op), op] * num_folds)\n",
        "    return folded_circuit"
      ],
      "metadata": {
        "id": "aqe43G8YM-NJ"
      },
      "execution_count": 123,
      "outputs": []
    },
    {
      "cell_type": "code",
      "source": [
        "def execute(circuit, noise_model=None):\n",
        "    if noise_model:\n",
        "        circuit = apply_noise(circuit, noise_model)\n",
        "    dsim = cirq.DensityMatrixSimulator()\n",
        "    rho = dsim.simulate(circuit).final_density_matrix\n",
        "    return rho[0, 0].real"
      ],
      "metadata": {
        "id": "BgeYXstCFHvj"
      },
      "execution_count": 124,
      "outputs": []
    },
    {
      "cell_type": "code",
      "source": [
        "def zne(noisy_results, method='linear'):\n",
        "    y = noisy_results\n",
        "    x = np.arange(len(y))\n",
        "    x = x + 1\n",
        "\n",
        "    if method == 'linear':\n",
        "        coefficients = np.polyfit(x, y, 1)\n",
        "        zero_noise_limit = coefficients[1]\n",
        "    elif method == 'polynomial':\n",
        "        coefficients = np.polyfit(x, y, 2)\n",
        "        zero_noise_limit = np.polyval(coefficients, len(y))\n",
        "    elif method == 'exponential':\n",
        "        coefficients = np.polyfit(x, np.log(y), 1)\n",
        "        zero_noise_limit = np.exp(coefficients[1])\n",
        "\n",
        "    return zero_noise_limit"
      ],
      "metadata": {
        "id": "Fbd7Z7UmGaYI"
      },
      "execution_count": 119,
      "outputs": []
    },
    {
      "cell_type": "code",
      "source": [
        "def plot_results(results, degree=1):\n",
        "    y = results\n",
        "    x = np.arange(len(y)) + 1\n",
        "\n",
        "    p = np.poly1d(np.polyfit(x, y, degree))\n",
        "    t = np.linspace(0, len(y))\n",
        "\n",
        "    # Plot points and trendline\n",
        "    plt.plot(x, y, 'o')\n",
        "    plt.plot(t, p(t), '--')\n",
        "\n",
        "    # Calculate intersection with y-axis\n",
        "    y_intercept = p(0)\n",
        "    plt.plot(0, y_intercept, 'ko')\n",
        "\n",
        "    plt.xticks(np.arange(0, max(x) + 1, 1))\n",
        "    plt.yticks(np.arange(0.0, 1, 0.1))\n",
        "    plt.legend(['Noisy Simulation Data', 'Extrapolation to Zero-Noise', f'Extrapolated Point at {y_intercept:.2f}'])\n",
        "    plt.xlabel('Noise Level')\n",
        "    plt.ylabel('Results')\n",
        "    plt.title('Zero-Noise Extrapolation')\n",
        "    plt.show()"
      ],
      "metadata": {
        "id": "oZejcPm_W9Yr"
      },
      "execution_count": 118,
      "outputs": []
    },
    {
      "cell_type": "markdown",
      "source": [
        "## Testing"
      ],
      "metadata": {
        "id": "vUvvQCu4qTyB"
      }
    },
    {
      "cell_type": "code",
      "source": [
        "# Test: Generate random circuit\n",
        "circuit = generate_random_circuit()\n",
        "circuit"
      ],
      "metadata": {
        "id": "hPm_ovw_SccB",
        "colab": {
          "base_uri": "https://localhost:8080/",
          "height": 139
        },
        "outputId": "703ea22e-4571-4dbe-d8bb-8f699604a0d2"
      },
      "execution_count": 125,
      "outputs": [
        {
          "output_type": "execute_result",
          "data": {
            "text/plain": [
              "              ┌──┐\n",
              "0: ───@───X─────×────\n",
              "      │   │     │\n",
              "1: ───@───┼────S┼────\n",
              "          │     │\n",
              "2: ───Z───@─────×────\n",
              "              └──┘"
            ],
            "text/html": [
              "<pre style=\"overflow: auto; white-space: pre;\">              ┌──┐\n",
              "0: ───@───X─────×────\n",
              "      │   │     │\n",
              "1: ───@───┼────S┼────\n",
              "          │     │\n",
              "2: ───Z───@─────×────\n",
              "              └──┘</pre>"
            ]
          },
          "metadata": {},
          "execution_count": 125
        }
      ]
    },
    {
      "cell_type": "code",
      "source": [
        "# Test: Create depolarizing noise model\n",
        "noise_model = depolarizing_noise_model(0.05)\n",
        "noise_model"
      ],
      "metadata": {
        "colab": {
          "base_uri": "https://localhost:8080/"
        },
        "id": "X43lYoJnk99q",
        "outputId": "aad17c40-f70c-4ba7-c352-65c019302465"
      },
      "execution_count": 126,
      "outputs": [
        {
          "output_type": "execute_result",
          "data": {
            "text/plain": [
              "cirq.ConstantQubitNoiseModel(cirq.depolarize(p=0.05))"
            ]
          },
          "metadata": {},
          "execution_count": 126
        }
      ]
    },
    {
      "cell_type": "code",
      "source": [
        "# Test: Apply folding to circuit\n",
        "folded_circuit = fold_circuit(circuit, 1)\n",
        "folded_circuit"
      ],
      "metadata": {
        "colab": {
          "base_uri": "https://localhost:8080/",
          "height": 139
        },
        "id": "_yCtVEcITTjL",
        "outputId": "e5ded5df-a6b6-4f12-8353-4dffbd2c6aa2"
      },
      "execution_count": 127,
      "outputs": [
        {
          "output_type": "execute_result",
          "data": {
            "text/plain": [
              "                  ┌──┐   ┌─────┐   ┌──┐\n",
              "0: ───@───@───@────X──────X─────────X─────×───×───×───\n",
              "      │   │   │    │      │         │     │   │   │\n",
              "1: ───@───@───@────┼S─────┼S^-1─────┼S────┼───┼───┼───\n",
              "                   │      │         │     │   │   │\n",
              "2: ───Z───Z───Z────@──────@─────────@─────×───×───×───\n",
              "                  └──┘   └─────┘   └──┘"
            ],
            "text/html": [
              "<pre style=\"overflow: auto; white-space: pre;\">                  ┌──┐   ┌─────┐   ┌──┐\n",
              "0: ───@───@───@────X──────X─────────X─────×───×───×───\n",
              "      │   │   │    │      │         │     │   │   │\n",
              "1: ───@───@───@────┼S─────┼S^-1─────┼S────┼───┼───┼───\n",
              "                   │      │         │     │   │   │\n",
              "2: ───Z───Z───Z────@──────@─────────@─────×───×───×───\n",
              "                  └──┘   └─────┘   └──┘</pre>"
            ]
          },
          "metadata": {},
          "execution_count": 127
        }
      ]
    },
    {
      "cell_type": "code",
      "source": [
        "# Test: Execute circuit with noisy simulation\n",
        "noisy_result = execute(folded_circuit, noise_model)\n",
        "noisy_result"
      ],
      "metadata": {
        "colab": {
          "base_uri": "https://localhost:8080/"
        },
        "id": "yfi8Um_0lZoa",
        "outputId": "1a90d03b-f2ec-4cb1-a334-4cbbbe3b18dd"
      },
      "execution_count": 129,
      "outputs": [
        {
          "output_type": "execute_result",
          "data": {
            "text/plain": [
              "0.4469934"
            ]
          },
          "metadata": {},
          "execution_count": 129
        }
      ]
    },
    {
      "cell_type": "markdown",
      "source": [
        "## Complete Task"
      ],
      "metadata": {
        "id": "HEu63nKLqZTQ"
      }
    },
    {
      "cell_type": "code",
      "source": [
        "# Simulate circuit with noise model and folding to get unmitigated results\n",
        "circuit = generate_random_circuit()\n",
        "noise_model = depolarizing_noise_model(0.05)\n",
        "\n",
        "ideal_result = execute(circuit)\n",
        "noisy_result = execute(circuit, noise_model)\n",
        "\n",
        "print(f\"Ideal result: {ideal_result:.2f}\\n\")\n",
        "print(f\"Unmitigated noisy result: {noisy_result:.2f}\\n\")\n",
        "\n",
        "num_folds = 3\n",
        "noisy_results = []\n",
        "\n",
        "for fold in range(num_folds):\n",
        "    folded_circuit = fold_circuit(circuit, fold)\n",
        "    result = execute(folded_circuit, noise_model)\n",
        "    noisy_results.append(result)\n",
        "\n",
        "mitigated_result = zne(noisy_results, method='linear')\n",
        "\n",
        "print(f\"ZNE mitigated result: {mitigated_result:.2f}\\n\")\n",
        "\n",
        "print(f\"Error mitigation: {(mitigated_result - noisy_result) / ideal_result * 100:.2f}%\")"
      ],
      "metadata": {
        "id": "VI0YWRZDTLmq",
        "colab": {
          "base_uri": "https://localhost:8080/"
        },
        "outputId": "db745bfd-e5a7-4d03-d3c8-9b5e35bfa2eb"
      },
      "execution_count": 133,
      "outputs": [
        {
          "output_type": "stream",
          "name": "stdout",
          "text": [
            "Ideal result: 1.00\n",
            "\n",
            "Unmitigated noisy result: 0.74\n",
            "\n",
            "ZNE mitigated result: 0.94\n",
            "\n",
            "Error mitigation: 19.59%\n"
          ]
        }
      ]
    },
    {
      "cell_type": "code",
      "source": [
        "# Plot the noisy results and the ZNE value\n",
        "plot_results(noisy_results, 1)"
      ],
      "metadata": {
        "colab": {
          "base_uri": "https://localhost:8080/",
          "height": 472
        },
        "id": "erEItm_CeOE4",
        "outputId": "03eb3311-0702-45c1-b9d4-ea6c6487377a"
      },
      "execution_count": 134,
      "outputs": [
        {
          "output_type": "display_data",
          "data": {
            "text/plain": [
              "<Figure size 640x480 with 1 Axes>"
            ],
            "image/png": "[encoded data removed]"
          },
          "metadata": {}
        }
      ]
    }
  ]
}